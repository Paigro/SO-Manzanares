{
 "cells": [
  {
   "cell_type": "markdown",
   "id": "8d8cda69",
   "metadata": {},
   "source": [
    "# Hoja 2"
   ]
  },
  {
   "cell_type": "markdown",
   "id": "f63e7c85",
   "metadata": {},
   "source": [
    "### Glosario"
   ]
  },
  {
   "cell_type": "code",
   "execution_count": null,
   "id": "22da3f61",
   "metadata": {
    "vscode": {
     "languageId": "bat"
    }
   },
   "outputs": [],
   "source": [
    "$ ls : Lista archivos y directorios.\n",
    "$ pwd : Muestra el path actual.\n",
    "$ mkdir : Crea nuevos directorios.\n",
    "$ rm : Elimina archivos y directorios.\n",
    "$ mv : Mueve o renombra archivos y directorios.\n",
    "$ cp : Copia archivos y directorios.\n",
    "$ stat : Muestra el estado de un archivo o sistema de archivos.\n",
    "\n",
    "$ chmod : Cambia los permisos de un archivo o directorio.\n",
    "$ chown : Cambia el propietario y grupo de un archivo o directorio.\n",
    "$ chgrp : Cambia el grupo asociado a un archivo o directorio.\n",
    "\n",
    "$ ln : Crea enlaces físicos o simbólicos entre archivos y directorios.\n",
    "$ file : Muestra el tipo de un archivo.\n",
    "$ file $(ls) : utiliza lo devuelto por ls como argumentos para file."
   ]
  },
  {
   "cell_type": "markdown",
   "id": "85a33f8c",
   "metadata": {},
   "source": [
    "### Ejercicio 1. que hace ls\n"
   ]
  },
  {
   "cell_type": "markdown",
   "id": "57e0c4b9",
   "metadata": {},
   "source": [
    "\n",
    "Muestra directorios del path actual\n",
    "- -a muestra todo\n",
    "- -l imprime el formato largo \n",
    "- -d imprime lista de directorios\n",
    "- -h con -l y -s imprime los tamaños\n",
    "- -i inodo de cada archivo\n",
    "- -R lista subdirectorios\n",
    "- -1 lista 1 archivo por linea\n",
    "- -F añade (*/=@>|) al final de un de un directrio"
   ]
  },
  {
   "cell_type": "markdown",
   "id": "189e3191",
   "metadata": {},
   "source": [
    "### Ejercicio 2. escribir un comando \n"
   ]
  },
  {
   "cell_type": "code",
   "execution_count": null,
   "id": "5aacc9a0",
   "metadata": {
    "vscode": {
     "languageId": "powershell"
    }
   },
   "outputs": [],
   "source": [
    "$ ls -l -i: Obtiene todos los detalles de todos los archivos de un directorio.\n",
    "$ file $(ls) : Muestra los tipos de archivo pasando ls como argumento para file."
   ]
  },
  {
   "cell_type": "markdown",
   "id": "383b61b8",
   "metadata": {},
   "source": [
    "### Ejercicio 3."
   ]
  },
  {
   "cell_type": "code",
   "execution_count": null,
   "id": "ca374995",
   "metadata": {
    "vscode": {
     "languageId": "bat"
    }
   },
   "outputs": [],
   "source": [
    "> echo \"Fichero de prueba: \" > archivo.txt\n",
    "> stat archivo.txt # Muestra toda la información de los metadatos (I-nodo)\n",
    "# -numero de inodo: 256404\n",
    "# -UID: 1001 # Usuario que puede editar y leer el archivo\n",
    "# -Size: 18kb\n",
    "# -Blocks: 8 # Cada bloque son 512 bytes\n",
    "> echo $PATH/archivo.txt # Muestra la ruta del archivo\n",
    "\n"
   ]
  },
  {
   "cell_type": "code",
   "execution_count": null,
   "id": "a3af67b0",
   "metadata": {
    "vscode": {
     "languageId": "bat"
    }
   },
   "outputs": [],
   "source": [
    "> touch archivo.txt # Cambia Change, Modify y Access\n",
    "> echo “Otra línea más en el fichero” >> archivo.txt # Cambia Modify y Change\n",
    "> cat archivo.txt # Cambia Access"
   ]
  },
  {
   "cell_type": "markdown",
   "id": "8a70a4f8",
   "metadata": {},
   "source": [
    "### Ejercicio 4."
   ]
  },
  {
   "cell_type": "raw",
   "id": "f4f90d75",
   "metadata": {
    "vscode": {
     "languageId": "raw"
    }
   },
   "source": [
    "\n",
    "PERMISOS: cadena de 10 caracteres. El primero indica si es archivo(-) o directorio (d)\n",
    "El resto, de 3 en 3, son los permisos para el Usuario (u), Grupo(g) y Otros Ususarios (o).\n",
    "Los permisos son de lectura(r), escritura (w) y ejecucion (x), nada (-).\n",
    "Para cambiar permisos con:\n",
    "//Linux:\n",
    "chmod o + x // Le da a otros el permiso de ejcucion."
   ]
  },
  {
   "cell_type": "markdown",
   "id": "2c014a1b",
   "metadata": {},
   "source": [
    "### Ejercicio 5."
   ]
  },
  {
   "cell_type": "markdown",
   "id": "b509ad68",
   "metadata": {},
   "source": [
    "\n",
    "chmod 540 fichero\n",
    "chmod u=rx,g=r,o= fichero\n",
    "- Los permisos se cambian con el chmod\n",
    "- Comando para otorgar acceso al usuario y al grupo y quitarselo al resto.\n",
    "    > chmod u=rwx file; chmod g = rwx file; chmod o=--- file\n",
    "- tras ejecutar\n"
   ]
  },
  {
   "cell_type": "code",
   "execution_count": null,
   "id": "9b9e7edf",
   "metadata": {
    "vscode": {
     "languageId": "powershell"
    }
   },
   "outputs": [],
   "source": [
    "$ ls -ld /tmp/ /usr/bin/passwd \n",
    "    drwxrwxrwt 12 root root  4096 Fre 12 06:48 /tmp/\n",
    "    -rwsr-xr-x  1 root root 59976 Nov 24  2022 /usr/bin/passwd\n"
   ]
  },
  {
   "cell_type": "markdown",
   "id": "d46c5b57",
   "metadata": {},
   "source": [
    "- todo el mundo tiene permisos en tmp\n",
    "- en /usr/bin/passwd -> u = todo, g y o = read y ejecución\n",
    "\n",
    "- permiso denegado: no puedes acceder mediante comandos\n",
    "    - chmod < usuario >=x\n",
    "\n"
   ]
  },
  {
   "cell_type": "markdown",
   "id": "5e908629",
   "metadata": {},
   "source": [
    "Ejercicio 6.\n",
    "\n",
    "Archivo -> hardlink (enlace duro) > ln < archivo > < nombre enlace >\n",
    "Archivo -> symlink (enlace simbolico) > ln -s < archivo > < nombre del enlace >\n",
    "\n",
    "|Archivo|i-nodo|Número de enlaces|Tamaño|\n",
    "|------|------|------|------|\n",
    "|archivo.txt|523571|2|0|\n",
    "|symlink.txt|523572|1|11|\n",
    "|hardlink.txt|523571|2|0|\n",
    "\n",
    "- Que symlink es un enlace roto y hardlink sigue existiendo igual.\n",
    "- hardlink pasa a 1 y symlink sigue igual, pero está roto."
   ]
  },
  {
   "cell_type": "markdown",
   "id": "7b4df9a0",
   "metadata": {},
   "source": [
    "Ejercicio 7."
   ]
  },
  {
   "cell_type": "code",
   "execution_count": null,
   "id": "2d3b1ecf",
   "metadata": {
    "vscode": {
     "languageId": "powershell"
    }
   },
   "outputs": [],
   "source": [
    "$ stat ejercicio7.file \n",
    "    File: ejercicio7.file \n",
    "    Size: 105906176     Blocks: 2048    IO Block: 4096   regular file \n",
    "    Device: 801h/2049d  Inode: 256409   Links: 1 "
   ]
  },
  {
   "cell_type": "markdown",
   "id": "f2747662",
   "metadata": {},
   "source": [
    "\n",
    "- Es un fichero normal que ocupa 108906176"
   ]
  },
  {
   "cell_type": "markdown",
   "id": "55f4248e",
   "metadata": {},
   "source": [
    "Ejercicio 10"
   ]
  },
  {
   "cell_type": "markdown",
   "id": "fae41933",
   "metadata": {},
   "source": [
    "Tt= 64MB y Tb= 1KB.\n",
    "Hay una tabla con una entrada para cada bloque. Esta tendra = Tt/Tb entradas = 2^16 = 64K bloques/entradas.\n",
    "La longitud de cada entrada sera log2(2^16) = 16 bits.\n",
    "Suponemos que el bloue 0 no esta libre o disponible pr dicheros, porque contendra la tabla FAT.\n",
    "El tamaño total de la tbla seria 16b (2B) de cada entrada * 64K entradas que hay = 128K bytes"
   ]
  }
 ],
 "metadata": {
  "language_info": {
   "name": "python"
  }
 },
 "nbformat": 4,
 "nbformat_minor": 5
}
