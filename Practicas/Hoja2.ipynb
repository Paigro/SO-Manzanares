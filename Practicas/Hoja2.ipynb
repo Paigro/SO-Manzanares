{
 "cells": [
  {
   "cell_type": "markdown",
   "id": "8d8cda69",
   "metadata": {},
   "source": [
    "# Hoja 2"
   ]
  },
  {
   "cell_type": "markdown",
   "id": "f63e7c85",
   "metadata": {},
   "source": [
    "### Glosario"
   ]
  },
  {
   "cell_type": "code",
   "execution_count": null,
   "id": "22da3f61",
   "metadata": {
    "vscode": {
     "languageId": "bat"
    }
   },
   "outputs": [],
   "source": [
    "$ ls : Lista archivos y directorios.\n",
    "$ pwd : Muestra el path actual.\n",
    "$ mkdir : Crea nuevos directorios.\n",
    "$ rm : Elimina archivos y directorios.\n",
    "$ mv : Mueve o renombra archivos y directorios.\n",
    "$ cp : Copia archivos y directorios.\n",
    "$ stat : Muestra el estado de un archivo o sistema de archivos.\n",
    "\n",
    "$ chmod : Cambia los permisos de un archivo o directorio.\n",
    "$ chown : Cambia el propietario y grupo de un archivo o directorio.\n",
    "$ chgrp : Cambia el grupo asociado a un archivo o directorio.\n",
    "\n",
    "$ ln : Crea enlaces físicos o simbólicos entre archivos y directorios.\n",
    "$ file : Muestra el tipo de un archivo.\n",
    "$ file $(ls) : utiliza lo devuelto por ls como argumentos para file."
   ]
  },
  {
   "cell_type": "markdown",
   "id": "85a33f8c",
   "metadata": {},
   "source": [
    "### Ejercicio 1. que hace ls\n"
   ]
  },
  {
   "cell_type": "markdown",
   "id": "57e0c4b9",
   "metadata": {},
   "source": [
    "\n",
    "Muestra directorios del path actual\n",
    "- -a muestra todo\n",
    "- -l imprime el formato largo \n",
    "- -d imprime lista de directorios\n",
    "- -h con -l y -s imprime los tamaños\n",
    "- -i inodo de cada archivo\n",
    "- -R lista subdirectorios\n",
    "- -1 lista 1 archivo por linea\n",
    "- -F añade (*/=@>|) al final de un de un directrio"
   ]
  },
  {
   "cell_type": "markdown",
   "id": "189e3191",
   "metadata": {},
   "source": [
    "### Ejercicio 2. escribir un comando \n"
   ]
  },
  {
   "cell_type": "code",
   "execution_count": null,
   "id": "5aacc9a0",
   "metadata": {
    "vscode": {
     "languageId": "powershell"
    }
   },
   "outputs": [],
   "source": [
    "$ ls -l -i: Obtiene todos los detalles de todos los archivos de un directorio.\n",
    "$ file $(ls) : Muestra los tipos de archivo pasando ls como argumento para file."
   ]
  },
  {
   "cell_type": "markdown",
   "id": "383b61b8",
   "metadata": {},
   "source": [
    "### Ejercicio 3."
   ]
  },
  {
   "cell_type": "code",
   "execution_count": null,
   "id": "ca374995",
   "metadata": {
    "vscode": {
     "languageId": "bat"
    }
   },
   "outputs": [],
   "source": [
    "> echo \"Fichero de prueba: \" > archivo.txt\n",
    "> stat archivo.txt # Muestra toda la información de los metadatos (I-nodo)\n",
    "# -numero de inodo: 256404\n",
    "# -UID: 1001 # Usuario que puede editar y leer el archivo\n",
    "# -Size: 18kb\n",
    "# -Blocks: 8 # Cada bloque son 512 bytes\n",
    "> echo $PATH/archivo.txt # Muestra la ruta del archivo\n",
    "\n"
   ]
  },
  {
   "cell_type": "code",
   "execution_count": null,
   "id": "a3af67b0",
   "metadata": {
    "vscode": {
     "languageId": "bat"
    }
   },
   "outputs": [],
   "source": [
    "> touch archivo.txt # Cambia Change, Modify y Access\n",
    "> echo “Otra línea más en el fichero” >> archivo.txt # Cambia Modify y Change\n",
    "> cat archivo.txt # Cambia Access"
   ]
  },
  {
   "cell_type": "markdown",
   "id": "8a70a4f8",
   "metadata": {},
   "source": [
    "### Ejercicio 4."
   ]
  },
  {
   "cell_type": "raw",
   "id": "f4f90d75",
   "metadata": {
    "vscode": {
     "languageId": "raw"
    }
   },
   "source": [
    "\n",
    "PERMISOS: cadena de 10 caracteres. El primero indica si es archivo(-) o directorio (d)\n",
    "El resto, de 3 en 3, son los permisos para el Usuario (u), Grupo(g) y Otros Ususarios (o).\n",
    "Los permisos son de lectura(r), escritura (w) y ejecucion (x), nada (-).\n",
    "Para cambiar permisos con:\n",
    "//Linux:\n",
    "chmod o + x // Le da a otros el permiso de ejcucion."
   ]
  },
  {
   "cell_type": "markdown",
   "id": "2c014a1b",
   "metadata": {},
   "source": [
    "### Ejercicio 5."
   ]
  },
  {
   "cell_type": "markdown",
   "id": "b509ad68",
   "metadata": {},
   "source": [
    "\n",
    "chmod 540 fichero\n",
    "chmod u=rx,g=r,o= fichero\n",
    "- Los permisos se cambian con el chmod\n",
    "- Comando para otorgar acceso al usuario y al grupo y quitarselo al resto.\n",
    "    > chmod u=rwx file; chmod g = rwx file; chmod o=--- file\n",
    "- tras ejecutar\n"
   ]
  },
  {
   "cell_type": "code",
   "execution_count": null,
   "id": "9b9e7edf",
   "metadata": {
    "vscode": {
     "languageId": "powershell"
    }
   },
   "outputs": [],
   "source": [
    "$ ls -ld /tmp/ /usr/bin/passwd \n",
    "    drwxrwxrwt 12 root root  4096 Fre 12 06:48 /tmp/\n",
    "    -rwsr-xr-x  1 root root 59976 Nov 24  2022 /usr/bin/passwd\n"
   ]
  },
  {
   "cell_type": "markdown",
   "id": "d46c5b57",
   "metadata": {},
   "source": [
    "- todo el mundo tiene permisos en tmp\n",
    "- en /usr/bin/passwd -> u = todo, g y o = read y ejecución\n",
    "\n",
    "- permiso denegado: no puedes acceder mediante comandos\n",
    "    - chmod < usuario >=x\n",
    "\n"
   ]
  },
  {
   "cell_type": "markdown",
   "id": "5e908629",
   "metadata": {},
   "source": [
    "Ejercicio 6.\n",
    "\n",
    "Archivo -> hardlink (enlace duro) > ln < archivo > < nombre enlace >\n",
    "Archivo -> symlink (enlace simbolico) > ln -s < archivo > < nombre del enlace >\n",
    "\n",
    "|Archivo|i-nodo|Número de enlaces|Tamaño|\n",
    "|------|------|------|------|\n",
    "|archivo.txt|523571|2|0|\n",
    "|symlink.txt|523572|1|11|\n",
    "|hardlink.txt|523571|2|0|\n",
    "\n",
    "- Que symlink es un enlace roto y hardlink sigue existiendo igual.\n",
    "- hardlink pasa a 1 y symlink sigue igual, pero está roto."
   ]
  },
  {
   "cell_type": "markdown",
   "id": "7b4df9a0",
   "metadata": {},
   "source": [
    "Ejercicio 7."
   ]
  },
  {
   "cell_type": "code",
   "execution_count": null,
   "id": "2d3b1ecf",
   "metadata": {
    "vscode": {
     "languageId": "powershell"
    }
   },
   "outputs": [],
   "source": [
    "$ stat ejercicio7.file \n",
    "    File: ejercicio7.file \n",
    "    Size: 105906176     Blocks: 2048    IO Block: 4096   regular file \n",
    "    Device: 801h/2049d  Inode: 256409   Links: 1 "
   ]
  },
  {
   "cell_type": "markdown",
   "id": "f2747662",
   "metadata": {},
   "source": [
    "\n",
    "- Es un fichero normal que ocupa 108906176"
   ]
  },
  {
   "cell_type": "code",
   "execution_count": null,
   "id": "42b70523",
   "metadata": {
    "vscode": {
     "languageId": "powershell"
    }
   },
   "outputs": [],
   "source": [
    "Ejercicio 8"
   ]
  },
  {
   "cell_type": "code",
   "execution_count": null,
   "id": "ea1d9852",
   "metadata": {
    "vscode": {
     "languageId": "powershell"
    }
   },
   "outputs": [],
   "source": [
    "#include <fcntl.h>\n",
    "#include <unistd.h>\n",
    "#include <stddio.h>\n",
    "#include <stdlib.h>\n",
    "\n",
    "int main(int argc, char *argv[]){\n",
    "    // APERTURA DE FICHEROS.\n",
    "\n",
    "    int in_fd, out_fd; // Descriptores con los que vamos a trabajar.\n",
    "\n",
    "    in_fd = open(argv[1], O_RDONLY); // Abrimos el fichero de entrada en modo solo lectura.\n",
    "\n",
    "    if (in_fd == -1){\n",
    "        perror(\"open() in\");\n",
    "        return 1;\n",
    "    }\n",
    "     // Abrimos el fichero de salida en modo escrituraONLY, crear si no existe, truncar el contenido.\n",
    "    out_fd = open(argv[2], O_WRONLI | O_CREAT | O_TRUNC, 0444); // Ponemos en octal los modos necesarios para las flags. (Que empiece por 0 indica que es un numero octal).\n",
    "\n",
    "    if (in_fd == -1){\n",
    "        perror(\"open() out\");\n",
    "        return 1;\n",
    "    }\n",
    "\n",
    "    // Cerramos los descriptores.\n",
    "    close(out_fd); \n",
    "    close(in_fd);\n",
    "\n",
    "    // LECTURA.\n",
    "    int bs = atoi(argv[3]); // Tamaño del bloque a leer.\n",
    "    int count = atoi(argv[4]); // Cantidad de bloques a leer.\n",
    "\n",
    "    char buffer[8192]; // Definimos un buffer de 8192 bytes (que sea char es importante).\n",
    "\n",
    "    int total_bytes = 0;\n",
    "\n",
    "    // Bucle para leer un bloque de datos.\n",
    "    // Leemos por bloques por si no se puede tener toda la informacion.\n",
    "    while(){\n",
    "        // buffer + total_bytes: Avanza el puntero hasta donde ya ha leido.\n",
    "        // bs - total_bytes: lee lo que le falta para completar el bloque.\n",
    "        int rc = read(in_fd, buffer + total_bytes, bs - total_bytes);\n",
    "\n",
    "        if (rc == 0){ // si ya se ha terminado la lectura sale del bucle\n",
    "            break;\n",
    "        }\n",
    "\n",
    "        total_bytes += rc;\n",
    "    }\n",
    "\n",
    "    if (bytes == 0){\n",
    "\n",
    "    }else if(bytes <= bs) {// El tamaño leido es menor que el de bloque.\n",
    "        // Seguimos leyendo no desde el tamaño de bloque, si no desde la cantidad que se ha podido leer, de lo contrario se pierden datos.\n",
    "\n",
    "    }\n",
    "\n",
    "    // TODO: ESCRITURA.\n",
    "        \n",
    "}"
   ]
  },
  {
   "cell_type": "markdown",
   "id": "2bbe220c",
   "metadata": {},
   "source": [
    "Ejercicio 9"
   ]
  },
  {
   "cell_type": "code",
   "execution_count": null,
   "id": "e26206c7",
   "metadata": {
    "vscode": {
     "languageId": "powershell"
    }
   },
   "outputs": [],
   "source": [
    "#include <sys/types.h>\n",
    "#include <stdio.h>\n",
    "\n",
    "int main(int argc, char *argv[]) {\n",
    "    Dir * d = opendir(argv[1]);\n",
    "\n",
    "    struct dirent * dent;\n",
    "\n",
    "    while ((dent = readdir(d)) != NULL) { // Recorremos el directorio hasta que readdir devuelva NULL (fin del directorio).\n",
    "        char path[8192]; // Path a un archivo. Usar un define para no poner un numero a ojo.\n",
    "        snprintf(path,8192,\"%s/%s\", argv[1], dent->d.d_name) // \"%s/%s\": <lo que me pasan> \"/\" <lo que he obtenido>\n",
    "        printf(\"---> %s\\n\", dent->d_name);\n",
    "        \n",
    "        closedir(d)\n",
    "\n",
    "\n",
    "        // Esto es feo, pero es para no complicar el ejemplo.\n",
    "        struct stat statbuf;\n",
    "\n",
    "        int rc = lstat(path, &statbuf);\n",
    "        if (rc == -1) {\n",
    "            perror(\"stat()\");\n",
    "            return 1; // devolver numero distinto de 0 si hay error\n",
    "        }\n",
    "\n",
    "        // Utilizacion de las macros para determinar el tipo de archivo\n",
    "        if (S_DIR(statbuf.st_mode)) { // Pasas el atributo st_mode de la estructura stat\n",
    "            printf(\"%s/\\n\", path); // Ponemos / para indicar que es un directorio.\n",
    "        } \n",
    "        else if (S_ISREG(statbuf.st_mode)) {\n",
    "            if (statbuf.st_mode & (S_IXUSR | S_XGRP | S_XOTH)) { // Usamos las mascaras de bits para ver si hay permiso de ejecucion **\n",
    "                printf(\"%s*\\n\", path); // Ponemos * para indicar que es un ejecutable.\n",
    "            } \n",
    "            else {\n",
    "                printf(\"%s-\\n\", path); // Ponemos - para indicar que es un fichero regular.\n",
    "            }\n",
    "        }\n",
    "    }\n",
    "    return 0; // devolver 0 si no hay error\n",
    "}"
   ]
  },
  {
   "cell_type": "markdown",
   "id": "55f4248e",
   "metadata": {},
   "source": [
    "Ejercicio 10"
   ]
  },
  {
   "cell_type": "markdown",
   "id": "fae41933",
   "metadata": {},
   "source": [
    "Tt= 64MB y Tb= 1KB.\n",
    "Hay una tabla con una entrada para cada bloque. Esta tendra = Tt/Tb entradas = 2^16 = 64K bloques/entradas.\n",
    "La longitud de cada entrada sera log2(2^16) = 16 bits.\n",
    "Suponemos que el bloue 0 no esta libre o disponible pr dicheros, porque contendra la tabla FAT.\n",
    "El tamaño total de la tabla seria 16b (2B) de cada entrada * 64K entradas que hay = 128K bytes"
   ]
  },
  {
   "cell_type": "markdown",
   "id": "895be3f9",
   "metadata": {},
   "source": [
    "Ejercicio 11"
   ]
  },
  {
   "attachments": {
    "image.png": {
     "image/png": "[encoded data removed]"
    }
   },
   "cell_type": "markdown",
   "id": "2bd7edb1",
   "metadata": {},
   "source": [
    "![image.png](attachment:image.png)"
   ]
  },
  {
   "cell_type": "markdown",
   "id": "90f8af0e",
   "metadata": {},
   "source": [
    "Ejercicio 12"
   ]
  },
  {
   "cell_type": "markdown",
   "id": "b44f4015",
   "metadata": {},
   "source": [
    "Ejercicio 13"
   ]
  },
  {
   "cell_type": "code",
   "execution_count": null,
   "id": "b691f233",
   "metadata": {
    "vscode": {
     "languageId": "powershell"
    }
   },
   "outputs": [],
   "source": [
    "//Terminal: Ejercicio 13 hoja 2: \n",
    "truncate --size 100M fs.ext2 // Reservar memoria para el inodo.\n",
    "mkfs.ext2 fs.ext2 // para crear un sistema de ficheros que usa bloques indexados.\n",
    "mkdir mnt // Creamos un directorio pater el SF.\n",
    "sudo  mount -t ext2 -o loop ./fs.ext2 ./mnt/ \t// Para montar o desmontar se necesitan permisos de superusuario. Loop para\n",
    "\t\t\t\t\t\t// decirle que el SF esta dentro de otro SF.\n",
    "echo 123456789 > small.txt // Creamos un archivo pequeñito.\n",
    "dd if=/dev/random of=/big bs=024 count=520 // Un archivo grande. Del tamaño del bloque.\n",
    "dd if=/dev/random of=/sparse bs=024 count=1 seek=51192 // Un archivo sparse.\n",
    "// Para ver cosas del FS. No es el mismo stat que hemos usado hasta ahora. X es el numero de inodo que queramos ver. Y\n",
    "// ponerle el FS que queremos ver.\n",
    "debugfs -R \"stat\"<x> ../fs.ext2"
   ]
  }
 ],
 "metadata": {
  "language_info": {
   "name": "python"
  }
 },
 "nbformat": 4,
 "nbformat_minor": 5
}
