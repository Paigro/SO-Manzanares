{
 "cells": [
  {
   "cell_type": "markdown",
   "id": "a3fc4f50",
   "metadata": {},
   "source": [
    "### Ejercicio \n",
    "ps(1) permite ver los procesos del sistema y su estado. Estudiar la página de \n",
    "manual y determinar las opciones necesarias para: "
   ]
  },
  {
   "cell_type": "markdown",
   "id": "90f21f86",
   "metadata": {},
   "source": [
    "Mostrar todos los procesos del usuario actual en formato extendido. (Nota: usar la variable de entorno USER). "
   ]
  },
  {
   "cell_type": "code",
   "execution_count": null,
   "id": "c92da09e",
   "metadata": {
    "vscode": {
     "languageId": "powershell"
    }
   },
   "outputs": [],
   "source": [
    "$ ps -U $USSER -u"
   ]
  },
  {
   "cell_type": "markdown",
   "id": "468bdd81",
   "metadata": {},
   "source": [
    "Mostrar los procesos del sistema, incluyendo el identificador del proceso, el identificador \n",
    "del grupo de procesos, el identificador de sesión, el estado y el comando con todos sus \n",
    "argumentos."
   ]
  },
  {
   "cell_type": "code",
   "execution_count": null,
   "id": "723a5255",
   "metadata": {
    "vscode": {
     "languageId": "powershell"
    }
   },
   "outputs": [],
   "source": [
    "$ ps -ahl"
   ]
  },
  {
   "cell_type": "markdown",
   "id": "68d420f4",
   "metadata": {},
   "source": [
    "#### Observar el identificador de proceso, grupo de procesos y sesión de los procesos. ¿Qué identificadores comparten la shell y los programas que se ejecutan en ella (usar la opción -H para identificar fácilmente la relación entre procesos)? "
   ]
  },
  {
   "cell_type": "markdown",
   "id": "1ea5e304",
   "metadata": {
    "vscode": {
     "languageId": "powershell"
    }
   },
   "source": [
    "Ejecutando el comando $ ps -ahl\n",
    "\n",
    "> Identificador del proceso (PID).\n",
    "\n",
    "> Identificador del proceso padre (PPID).\n",
    "\n",
    "- Los procesos hijo comparten el identificador del padre (ppid)\n",
    "- Comparten tambien la prioridad del proceso (Pri) (la prioridad asignada por el kernel)\n",
    "- Comparten el nice level (ni) (numero modificable capaz de moficar la prioridad asignada por el kernel)\n"
   ]
  },
  {
   "cell_type": "markdown",
   "id": "bce740a7",
   "metadata": {},
   "source": [
    "#### ¿Cuál es el identificador de grupo de procesos cuando se crea un nuevo proceso? Usar el comando sleep para poder verlo fácilmente en la salida del comando ps. "
   ]
  },
  {
   "cell_type": "markdown",
   "id": "d99c56c1",
   "metadata": {},
   "source": [
    "Todos los procesos comparten el identificador del padre (ppid)"
   ]
  },
  {
   "cell_type": "markdown",
   "id": "88f17f35",
   "metadata": {},
   "source": [
    "### Ejercicio 2. Escribir un programa que muestre los identificadores del proceso (PID, PPID, PGID y SID), el identificador del usuario y grupo, y su directorio de trabajo actual. "
   ]
  },
  {
   "cell_type": "code",
   "execution_count": null,
   "id": "69bb8d77",
   "metadata": {
    "vscode": {
     "languageId": "c"
    }
   },
   "outputs": [],
   "source": [
    "#include <stdio.h>\n",
    "#include <stdlib.h>\n",
    "#include <unistd.h>\n",
    "\n",
    "int main(int argc, char argv)\n",
    "{\n",
    "    int pid = getpid();\n",
    "    int ppid = getppid();\n",
    "    int pgid = getpgid(pid);\n",
    "    int sid = getsid(pid);\n",
    "\n",
    "    printf(\"PID: %i, PPID: %i, PGID: %i, SID: %i\\n\", pid, ppid, pgid, sid);\n",
    "\n",
    "    return 0;\n",
    "}"
   ]
  },
  {
   "cell_type": "markdown",
   "id": "bd827306",
   "metadata": {},
   "source": [
    "### Ejercicio 3. Considera la siguiente orden de la línea de comandos: \n",
    "> echo \"12345\" > /proc/$$/fd/1 "
   ]
  },
  {
   "cell_type": "markdown",
   "id": "b79f2622",
   "metadata": {},
   "source": [
    "Lo que estas haciendo es escribir en la salida estandar(fd/1) del proceso actual($$) -> stdout: escribe en consola 12345"
   ]
  },
  {
   "cell_type": "markdown",
   "id": "fefc7ed0",
   "metadata": {},
   "source": [
    "### Ejercicio 4. Consulta el tipo de fichero y contenido de los siguientes ficheros del proceso de la shell actual (/proc/$$) completa la siguiente tabla: "
   ]
  },
  {
   "cell_type": "markdown",
   "id": "9cef080d",
   "metadata": {},
   "source": []
  },
  {
   "cell_type": "markdown",
   "id": "9b2a2d4d",
   "metadata": {},
   "source": [
    "### Ejercicio 5\n",
    "Escribir un programa que cree un proceso hijo con las siguientes características:\n",
    "- El programa recibirá dos argumentos en la forma: \n",
    "> ./ejercicio5 <segundos_padre> <segundos_hijo>\n",
    "- El hijo creará su propia sesión, imprimirá sus identificadores (como en el Ejercicio 2), esperará <segundos hijo> (segundo argumento) con la llamada sleep(3); y terminará.\n",
    "- El padre imprimirá sus identificadores (Ejercicio 2), esperará <segundos padre> (primer argumento) con la llamada sleep; y terminará."
   ]
  },
  {
   "cell_type": "code",
   "execution_count": null,
   "id": "bee7502c",
   "metadata": {},
   "outputs": [],
   "source": [
    "int main() {\n",
    "    pid_t pid;\n",
    "\n",
    "    pid = fork();\n",
    "\n",
    "    switch (pid) {\n",
    "    case -1:\n",
    "        perror(\"fork\");\n",
    "        exit(1);\n",
    "    case 0:\n",
    "        sleep(argv[2]);\n",
    "        printf(\"Hijo: %i (padre: %i)\\n\", getpid(), getppid());\n",
    "        break;\n",
    "    default:\n",
    "        sleep(argv[1]);\n",
    "        printf(\"Padre: %i (hijo: %i)\\n\", getpid(), pid);\n",
    "        break;\n",
    "    }\n",
    "\n",
    "    return 0;\n",
    "}"
   ]
  },
  {
   "cell_type": "markdown",
   "id": "81a99580",
   "metadata": {},
   "source": [
    "### Ejercicio 9:\n",
    "Escribir un programa que ejecute otro programa (ejecutable y argumentos) que se pasará como argumento. El programa creará un proceso hijo que ejecutará el programa dado en el argumento con la función execvp(3). El proceso padre esperará que termine el hijo e imprimirá su código de salida. Ejemplos de ejecución:\n"
   ]
  },
  {
   "cell_type": "code",
   "execution_count": null,
   "id": "7d3bdb8b",
   "metadata": {},
   "outputs": [],
   "source": [
    "// Queremos ejecutar ./9 ls -l -a\n",
    "\n",
    "int main() {\n",
    "    pid_t pid;\n",
    "\n",
    "    pid = fork();\n",
    "\n",
    "    switch (pid) {\n",
    "    case -1: // Error\n",
    "        perror(\"fork\");\n",
    "        exit(1);\n",
    "    case 0: // Hijo\n",
    "        printf(\"Hijo: %i (padre: %i)\\n\", getpid(), getppid());\n",
    "        //  &argv[1] direccion del primer argumento (ls).\n",
    "        execvp(argv[1], &argv[1]);\n",
    "        break;\n",
    "    default: // Padre\n",
    "        printf(\"Padre: %i (hijo: %i)\\n\", getpid(), pid);\n",
    "        break;\n",
    "    }\n",
    "\n",
    "    return 0;\n",
    "}"
   ]
  },
  {
   "cell_type": "markdown",
   "id": "d31581bb",
   "metadata": {},
   "source": [
    "### Ejercicio 11 y 12\n",
    "Escribir un programa que genere un fichero con 5 procesos concurrentes con la siguiente estructura:\n",
    "\n",
    "![image.png](attachment:image.png)\n",
    "\n",
    "El proceso padre creará el fichero de salida output.txt y escribirá el primer segmento de 5 ceros (00000). A continuación creará 5 hijos y esperará a que termine cada uno mostrando el PID y número de hijo. Cada hijo realiza las siguientes acciones:\n",
    "- Abrirá el archivo y desplazará el puntero de escritura el offset correspondiente.\n",
    "- Escribirá la secuencia correspondiente (“11111”, “22222”...). Esta parte puede implementarse de dos formas:\n",
    "    - Creando una cadena con la secuencia correspondiente, con sprintf(3); y escribiendo la cadena en el archivo.\n",
    "    - Definiendo un array con cada posición inicializada al carácter correspondiente al hijo (char c = ‘0’ + index) ; y escribiendo el array en el archivo\n"
   ]
  },
  {
   "cell_type": "code",
   "execution_count": null,
   "id": "0cf8550a",
   "metadata": {},
   "outputs": [],
   "source": [
    "#define NUM 5\n",
    "\n",
    "void imprimir_indice(int fd, int indice){\n",
    "    char buffer[NuM];\n",
    "    for(int i=0; i<NUM; i++){\n",
    "        buffer[i] = '0' + indice; // Desplazamiento del puntero\n",
    "    }\n",
    "\n",
    "    write(fd, buffer, NUM*sizeof(char));\n",
    "\n",
    "    /*\n",
    "    char buffer[NUM+1];\n",
    "    \n",
    "    \n",
    "    */\n",
    "}\n",
    "\n",
    "int main(int argc, char *argv[]) {\n",
    "    pid_t pid;\n",
    "    int rc;\n",
    "\n",
    "    int fd = open(\"archivo.txt\", \n",
    "        O_WRONLY | O_CREATE | O_TRUNC, \n",
    "        0660);\n",
    "    \n",
    "    imprimir_indice(fd, 0); // Padre\n",
    "\n",
    "    close(fd);\n",
    "\n",
    "    for(int indice = 1; indice <= 6; indice++){\n",
    "        pid_t pid = fork();\n",
    "\n",
    "        // Solo el padre crea nuevos procesos\n",
    "        if (pid != 0) {\n",
    "            continue;\n",
    "        }\n",
    "        // El padre no entra aqui\n",
    "        // cada hijo tiene su archivo\n",
    "        fd = open(\"archivo.txt\", O_WRONLY);\n",
    "        // Como hijo, nos posicionamos en el lugar correcto\n",
    "        lseek(fd, indice * NUM, SEEK_SET);\n",
    "        srandom(indice);\n",
    "        int sec = random() % 2;\n",
    "        sleep(sec);\n",
    "        imprimir_indice(fd, indice);\n",
    "\n",
    "        close(fd);\n",
    "        return 0;\n",
    "    }\n",
    "\n",
    "    // Esperamos a los hijos\n",
    "    for(int i=0; i<=5; i++){\n",
    "        int s;\n",
    "        int rc = waitpid(0, &s, 0);\n",
    "        // Obtener el PID del hijo que ha terminado\n",
    "        if (WIFEXITED(s)) {\n",
    "            printf(\"Hijo [%i]finalizado con codigo %d\\n\", rc, WEXITSTATUS(s));\n",
    "        }\n",
    "    }\n",
    "    return 0;\n",
    "}"
   ]
  }
 ],
 "metadata": {
  "kernelspec": {
   "display_name": "Python 3",
   "language": "python",
   "name": "python3"
  },
  "language_info": {
   "codemirror_mode": {
    "name": "ipython",
    "version": 3
   },
   "file_extension": ".py",
   "mimetype": "text/x-python",
   "name": "python",
   "nbconvert_exporter": "python",
   "pygments_lexer": "ipython3",
   "version": "3.11.9"
  }
 },
 "nbformat": 4,
 "nbformat_minor": 5
}
